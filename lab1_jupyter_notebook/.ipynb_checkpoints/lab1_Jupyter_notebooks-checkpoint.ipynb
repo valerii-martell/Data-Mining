{
 "cells": [
  {
   "cell_type": "markdown",
   "id": "29edfa02",
   "metadata": {},
   "source": [
    "# Lab work 1. Jupyter notebooks. \n",
    "## A personal number in the course list is 7 \n",
    "\n",
    "An expression:\n",
    "\n",
    "$$ R = \\frac{9.33x^2+\\sqrt{x}}{\\ln{(y+3.5)}+\\sqrt{y}}$$"
   ]
  },
  {
   "cell_type": "code",
   "execution_count": 1,
   "id": "74a8f1be",
   "metadata": {},
   "outputs": [
    {
     "name": "stdout",
     "output_type": "stream",
     "text": [
      "x:10\n",
      "y:2\n",
      "300.1519035272562\n"
     ]
    }
   ],
   "source": [
    "import math\n",
    "\n",
    "def try_parse(cls, value):\n",
    "    try:\n",
    "        return cls(value), True\n",
    "    except ValueError:\n",
    "        return value, False\n",
    "    \n",
    "def read_value(name):\n",
    "    value, err = try_parse(float, input(name + \":\"))\n",
    "    while not err:\n",
    "        print(\"Wrong format of your input, try again:\")\n",
    "        value, err = try_parse(float, input(name + \":\"))\n",
    "    while value < 0:\n",
    "        print(\"Value must be greater than zero, try again:\")\n",
    "        value, err = try_parse(float, input(name + \":\"))\n",
    "    return value\n",
    "\n",
    "x = read_value(\"x\")\n",
    "y = read_value(\"y\")\n",
    "r = (9.33*x**2+math.sqrt(x))/(math.log(y+3.5)+math.sqrt(y))\n",
    "print(r)\n"
   ]
  },
  {
   "cell_type": "code",
   "execution_count": null,
   "id": "9c09afa3",
   "metadata": {},
   "outputs": [],
   "source": []
  }
 ],
 "metadata": {
  "kernelspec": {
   "display_name": "Python 3 (ipykernel)",
   "language": "python",
   "name": "python3"
  },
  "language_info": {
   "codemirror_mode": {
    "name": "ipython",
    "version": 3
   },
   "file_extension": ".py",
   "mimetype": "text/x-python",
   "name": "python",
   "nbconvert_exporter": "python",
   "pygments_lexer": "ipython3",
   "version": "3.9.7"
  }
 },
 "nbformat": 4,
 "nbformat_minor": 5
}
